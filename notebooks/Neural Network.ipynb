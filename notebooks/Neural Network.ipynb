{
 "cells": [
  {
   "cell_type": "markdown",
   "metadata": {
    "deletable": true,
    "editable": true
   },
   "source": [
    "# Perceptron"
   ]
  },
  {
   "cell_type": "code",
   "execution_count": 1,
   "metadata": {
    "collapsed": true,
    "deletable": true,
    "editable": true
   },
   "outputs": [],
   "source": [
    "import numpy as np"
   ]
  },
  {
   "cell_type": "code",
   "execution_count": 2,
   "metadata": {
    "collapsed": true,
    "deletable": true,
    "editable": true
   },
   "outputs": [],
   "source": [
    "class Perceptron:\n",
    "    def __init__(self, inputs, targets, eta, epochs, random_state=None):\n",
    "        self.inputs = inputs\n",
    "        self.targets = targets\n",
    "        self.eta = eta\n",
    "        self.epochs = epochs\n",
    "        if random_state:\n",
    "            np.random.seed(random_state)\n",
    "        self.progress = []\n",
    "        return\n",
    "    \n",
    "    @staticmethod\n",
    "    def _forward(inputs, weights):\n",
    "        signal = np.dot(inputs, weights)\n",
    "        return np.where(signal > 0, 1, 0)\n",
    "    \n",
    "    def train(self):\n",
    "        \"\"\"\n",
    "        \"\"\"\n",
    "        # Ensure target data is 2D\n",
    "        if self.targets.ndim == 1:\n",
    "            self.targets = self.targets.reshape((-1, 1))\n",
    "            \n",
    "        # Initilize weights to small numbers\n",
    "        weights = np.random.rand(self.inputs.shape[1] + 1, self.targets.shape[1]) * 0.1 - 0.05\n",
    "        bias = -np.ones((self.inputs.shape[0], 1))\n",
    "        inputs_with_bias = np.hstack((self.inputs, bias))\n",
    "        # print(\"DEBUG:: Inputs with bias: {}\".format(inputs_with_bias))\n",
    "        # print(\"DEBUG:: Targets: {}\".format(self.targets))\n",
    "        \n",
    "        for i in range(self.epochs):\n",
    "            outputs = self._forward(inputs_with_bias, weights)\n",
    "            print(\"DEBUG:: Outputs: {}\".format(outputs.reshape((1, -1))))\n",
    "            weights -= self.eta * np.dot(inputs_with_bias.T, outputs - self.targets)\n",
    "            self.progress.append(outputs)"
   ]
  },
  {
   "cell_type": "code",
   "execution_count": 3,
   "metadata": {
    "collapsed": true,
    "deletable": true,
    "editable": true
   },
   "outputs": [],
   "source": [
    "or_network = np.array([[0, 0, 0], [0, 1, 1], [1, 0, 1], [1, 1, 1]])"
   ]
  },
  {
   "cell_type": "code",
   "execution_count": 4,
   "metadata": {
    "collapsed": false,
    "deletable": true,
    "editable": true
   },
   "outputs": [
    {
     "data": {
      "text/plain": [
       "array([[0, 0],\n",
       "       [0, 1],\n",
       "       [1, 0],\n",
       "       [1, 1]])"
      ]
     },
     "execution_count": 4,
     "metadata": {},
     "output_type": "execute_result"
    }
   ],
   "source": [
    "or_network[:, :2]"
   ]
  },
  {
   "cell_type": "code",
   "execution_count": 5,
   "metadata": {
    "collapsed": false,
    "deletable": true,
    "editable": true
   },
   "outputs": [],
   "source": [
    "p = Perceptron(or_network[:, :2], or_network[:, 2], eta=0.25, epochs=10, random_state=42)"
   ]
  },
  {
   "cell_type": "code",
   "execution_count": 6,
   "metadata": {
    "collapsed": false,
    "deletable": true,
    "editable": true
   },
   "outputs": [
    {
     "name": "stdout",
     "output_type": "stream",
     "text": [
      "DEBUG:: Outputs: [[0 1 0 1]]\n",
      "DEBUG:: Outputs: [[1 1 1 1]]\n",
      "DEBUG:: Outputs: [[0 1 1 1]]\n",
      "DEBUG:: Outputs: [[0 1 1 1]]\n",
      "DEBUG:: Outputs: [[0 1 1 1]]\n",
      "DEBUG:: Outputs: [[0 1 1 1]]\n",
      "DEBUG:: Outputs: [[0 1 1 1]]\n",
      "DEBUG:: Outputs: [[0 1 1 1]]\n",
      "DEBUG:: Outputs: [[0 1 1 1]]\n",
      "DEBUG:: Outputs: [[0 1 1 1]]\n"
     ]
    }
   ],
   "source": [
    "p.train()"
   ]
  },
  {
   "cell_type": "markdown",
   "metadata": {
    "deletable": true,
    "editable": true
   },
   "source": [
    "## Linear Regression"
   ]
  },
  {
   "cell_type": "code",
   "execution_count": 7,
   "metadata": {
    "collapsed": false,
    "deletable": true,
    "editable": true
   },
   "outputs": [],
   "source": [
    "def linear_regression(X, y):\n",
    "    if y.ndim == 1:\n",
    "        y = y.reshape((-1, 1))\n",
    "\n",
    "    X = np.hstack((X, -np.ones((X.shape[0], 1))))\n",
    "    beta = np.dot(np.dot(np.linalg.inv(np.dot(X.T, X)), X.T), y)\n",
    "    \n",
    "    return np.dot(beta, inputs.T)"
   ]
  },
  {
   "cell_type": "code",
   "execution_count": 8,
   "metadata": {
    "collapsed": false,
    "deletable": true,
    "editable": true
   },
   "outputs": [],
   "source": [
    "# def linear_regression_2(x, y):\n",
    "#     X = np.matrix(np.vstack([x, -np.ones(len(x))]).T)\n",
    "#     beta = np.linalg.inv(X.T * X) * X.T * np.matrix(y).T\n",
    "#     \n",
    "#     return beta * x"
   ]
  },
  {
   "cell_type": "code",
   "execution_count": null,
   "metadata": {
    "collapsed": true,
    "deletable": true,
    "editable": true
   },
   "outputs": [],
   "source": []
  },
  {
   "cell_type": "markdown",
   "metadata": {
    "deletable": true,
    "editable": true
   },
   "source": [
    "# Multilayer Perceptron"
   ]
  },
  {
   "cell_type": "code",
   "execution_count": 9,
   "metadata": {
    "collapsed": true,
    "deletable": true,
    "editable": true
   },
   "outputs": [],
   "source": [
    "import matplotlib.pyplot as plt\n",
    "import seaborn as sns\n",
    "import numpy as np\n",
    "sns.set()\n",
    "%matplotlib inline\n",
    "\n",
    "np.random.seed(42)"
   ]
  },
  {
   "cell_type": "code",
   "execution_count": 10,
   "metadata": {
    "collapsed": true,
    "deletable": true,
    "editable": true
   },
   "outputs": [],
   "source": [
    "X = np.linspace(0, 1, 40)\n",
    "y = np.sin(2 * np.pi * X) + np.cos(4 * np.pi * X) + np.random.randn(40) * 0.2"
   ]
  },
  {
   "cell_type": "code",
   "execution_count": 11,
   "metadata": {
    "collapsed": false,
    "deletable": true,
    "editable": true
   },
   "outputs": [
    {
     "data": {
      "text/plain": [
       "<matplotlib.collections.PathCollection at 0x10ca5f810>"
      ]
     },
     "execution_count": 11,
     "metadata": {},
     "output_type": "execute_result"
    },
    {
     "data": {
      "image/png": "[encoded data removed]",
      "text/plain": [
       "<matplotlib.figure.Figure at 0x10c952bd0>"
      ]
     },
     "metadata": {},
     "output_type": "display_data"
    }
   ],
   "source": [
    "plt.scatter(X, y, s=10)"
   ]
  },
  {
   "cell_type": "code",
   "execution_count": 12,
   "metadata": {
    "collapsed": false,
    "deletable": true,
    "editable": true
   },
   "outputs": [],
   "source": [
    "from sklearn.model_selection import train_test_split\n",
    "from scipy.special import expit"
   ]
  },
  {
   "cell_type": "code",
   "execution_count": 13,
   "metadata": {
    "collapsed": true,
    "deletable": true,
    "editable": true
   },
   "outputs": [],
   "source": [
    "class MLP:\n",
    "    def __init__(self, inputs, targets, num_hidden, beta=1, momentum=0.9,\n",
    "                 activation=\"logistic\", random_state=None):\n",
    "        \"\"\"\n",
    "        \"\"\"\n",
    "        self.inputs = inputs\n",
    "        if targets.ndim == 1:\n",
    "            targets = targets.reshape((-1, 1))\n",
    "        self.targets = targets\n",
    "        self.num_input = inputs.shape[1]\n",
    "        self.num_output = targets.shape[1]\n",
    "        self.num_hidden = num_hidden\n",
    "        self.w1, self.w2 = self._initialize_weights()\n",
    "        self.beta = beta\n",
    "        self.momentum = momentum\n",
    "        self.activation = activation\n",
    "        if random_state:\n",
    "            np.random.seed(random_state)\n",
    "\n",
    "    def _initialize_weights(self):\n",
    "        \"\"\"Initialize weights with small random numbers\n",
    "        \"\"\"\n",
    "        w1 = (np.random.rand(self.num_input + 1, self.num_hidden) - 0.5) * 2\\\n",
    "            / np.sqrt(self.num_input)  # add 1 for bias node\n",
    "        w2 = (np.random.rand(self.num_hidden + 1, self.num_output) - 0.5) * 2\\\n",
    "            / np.sqrt(self.num_hidden)\n",
    "        return w1, w2\n",
    "\n",
    "    def _add_bias_node(self, inputs):\n",
    "        return np.hstack((inputs, -np.ones((inputs.shape[0], 1))))\n",
    "\n",
    "    def early_stopping(self, valid_inputs, valid_targets, eta, epochs=100):\n",
    "\n",
    "        valid_inputs = self._add_bias_node(valid_inputs)\n",
    "        if valid_targets.ndim == 1:\n",
    "            valid_targets = valid_targets.reshape((-1, 1))\n",
    "\n",
    "        best_valid_error = 100001\n",
    "        valid_error = 100000\n",
    "\n",
    "        cnt = 0\n",
    "        while best_valid_error - valid_error > 1e-3:\n",
    "            cnt += 1\n",
    "            print(\"==> Validation iteration count: {}\".format(cnt))\n",
    "            self.train(eta, epochs)\n",
    "            # best_train_error = self.error_[-1]\n",
    "            best_valid_error = valid_error\n",
    "            valid_outputs = self._forward(valid_inputs, self.w1, self.w2)\n",
    "            valid_error = ((valid_targets - valid_outputs) ** 2).sum() / 2.0\n",
    "            print(\"    Validation error: {}\".format(valid_error))\n",
    "\n",
    "    def train(self, eta, epochs):\n",
    "\n",
    "        self.error_ = []\n",
    "        delta_w1 = np.zeros(self.w1.shape)\n",
    "        delta_w2 = np.zeros(self.w2.shape)\n",
    "\n",
    "        inputs = self._add_bias_node(self.inputs)\n",
    "\n",
    "        for i in range(epochs):\n",
    "            outputs = self._forward(inputs, self.w1, self.w2)\n",
    "            error = ((outputs - self.targets) ** 2).sum() / 2.0\n",
    "            self.error_.append(error)\n",
    "\n",
    "            if i % 100 == 0:\n",
    "                print(\"    Iteration {:3d}: error = {}\".format(i, error))\n",
    "\n",
    "            if self.activation == \"linear\":\n",
    "                output_deltas = (outputs - self.targets) / self.inputs.shape[0]\n",
    "            elif self.activation == \"logistic\":\n",
    "                output_deltas = self.beta\\\n",
    "                    * (outputs - self.targets) * outputs * (1.0 - outputs)\n",
    "            # elif self.activation == \"softmax\":\n",
    "            #     output_deltas =\n",
    "            \n",
    "            hidden_deltas = self.hidden_outputs * self.beta * (1.0 - self.hidden_outputs)\\\n",
    "                * (np.dot(output_deltas, self.w2.T))\n",
    "\n",
    "            delta_w1 = eta * (np.dot(inputs.T, hidden_deltas[:, :-1]))\\\n",
    "                + self.momentum * delta_w1\n",
    "            delta_w2 = eta * (np.dot(self.hidden_outputs.T, output_deltas))\\\n",
    "                + self.momentum * delta_w2\n",
    "            \n",
    "            self.w1 -= delta_w1\n",
    "            self.w2 -= delta_w2\n",
    "\n",
    "    def _forward(self, inputs, w1, w2):\n",
    "        \"\"\"Feed forward\n",
    "        \"\"\"\n",
    "        # inputs = self._add_bias_node(inputs)\n",
    "        z = self.beta * np.dot(inputs, w1)\n",
    "        self.hidden_outputs = np.hstack((self._sigmoid(z), -np.ones((inputs.shape[0], 1))))\n",
    "        outputs = np.dot(self.hidden_outputs, w2)\n",
    "        if self.activation == \"linear\":\n",
    "            outputs = outputs\n",
    "        elif self.activation == \"logistic\":\n",
    "            outputs = self._sigmoid(self.beta * outputs)\n",
    "        # elif self.activation == \"softmax\":\n",
    "        #     # normalizer = \n",
    "        #     return\n",
    "        # else:\n",
    "        #     print(\"WARNING:: Error\")\n",
    "\n",
    "        return outputs\n",
    "\n",
    "    def _sigmoid(self, z):\n",
    "        return expit(z)"
   ]
  },
  {
   "cell_type": "markdown",
   "metadata": {
    "deletable": true,
    "editable": true
   },
   "source": [
    "### Training example 1"
   ]
  },
  {
   "cell_type": "code",
   "execution_count": 14,
   "metadata": {
    "collapsed": true,
    "deletable": true,
    "editable": true
   },
   "outputs": [],
   "source": [
    "X = np.linspace(0, 1, 40)\n",
    "y = np.sin(2 * np.pi * X) + np.cos(4 * np.pi * X) + np.random.randn(40) * 0.2"
   ]
  },
  {
   "cell_type": "code",
   "execution_count": 15,
   "metadata": {
    "collapsed": false,
    "deletable": true,
    "editable": true
   },
   "outputs": [],
   "source": [
    "# X_train, X_test, y_train, y_test = train_test_split(X, y, test_size = 0.5, random_state = 42)\n",
    "# X_test, X_valid, y_test, y_valid = train_test_split(X_test, y_test, test_size = 0.5, random_state = 42)\n",
    "# X_train = X_train.reshape((-1, 1))\n",
    "# X_valid = X_valid.reshape((-1, 1))"
   ]
  },
  {
   "cell_type": "code",
   "execution_count": 16,
   "metadata": {
    "collapsed": false,
    "deletable": true,
    "editable": true
   },
   "outputs": [],
   "source": [
    "train = X.reshape((-1, 1))[0::2, :]\n",
    "valid = X.reshape((-1, 1))[3::4, :]\n",
    "y_train = y.reshape((-1, 1))[0::2, :]\n",
    "y_valid = y.reshape((-1, 1))[3::4, :]\n",
    "# print(y_valid)"
   ]
  },
  {
   "cell_type": "code",
   "execution_count": 17,
   "metadata": {
    "collapsed": true,
    "deletable": true,
    "editable": true
   },
   "outputs": [],
   "source": [
    "nn = MLP(train, y_train, 3, activation=\"linear\")"
   ]
  },
  {
   "cell_type": "code",
   "execution_count": 18,
   "metadata": {
    "collapsed": false,
    "deletable": true,
    "editable": true
   },
   "outputs": [
    {
     "name": "stdout",
     "output_type": "stream",
     "text": [
      "==> Validation iteration count: 1\n",
      "    Iteration   0: error = 11.1367455831\n",
      "    Iteration 100: error = 6.47886278063\n",
      "    Validation error: 3.56079984533\n",
      "==> Validation iteration count: 2\n",
      "    Iteration   0: error = 6.44770207553\n",
      "    Iteration 100: error = 6.43419561644\n",
      "    Validation error: 3.52292181586\n",
      "==> Validation iteration count: 3\n",
      "    Iteration   0: error = 6.42339370117\n",
      "    Iteration 100: error = 6.41419086565\n",
      "    Validation error: 3.50721443455\n",
      "==> Validation iteration count: 4\n",
      "    Iteration   0: error = 6.40331254795\n",
      "    Iteration 100: error = 6.39199513239\n",
      "    Validation error: 3.49472285627\n",
      "==> Validation iteration count: 5\n",
      "    Iteration   0: error = 6.37729213147\n",
      "    Iteration 100: error = 6.36102881588\n",
      "    Validation error: 3.47801262542\n",
      "==> Validation iteration count: 6\n",
      "    Iteration   0: error = 6.33889958879\n",
      "    Iteration 100: error = 6.31352946122\n",
      "    Validation error: 3.45109922358\n",
      "==> Validation iteration count: 7\n",
      "    Iteration   0: error = 6.27826551333\n",
      "    Iteration 100: error = 6.23774748402\n",
      "    Validation error: 3.40634916107\n",
      "==> Validation iteration count: 8\n",
      "    Iteration   0: error = 6.18270247794\n",
      "    Iteration 100: error = 6.12241029199\n",
      "    Validation error: 3.33642528455\n",
      "==> Validation iteration count: 9\n",
      "    Iteration   0: error = 6.04556955324\n",
      "    Iteration 100: error = 5.96644187424\n",
      "    Validation error: 3.23447245435\n",
      "==> Validation iteration count: 10\n",
      "    Iteration   0: error = 5.86913324441\n",
      "    Iteration 100: error = 5.76830989968\n",
      "    Validation error: 3.07937562044\n",
      "==> Validation iteration count: 11\n",
      "    Iteration   0: error = 5.63679150435\n",
      "    Iteration 100: error = 5.4848392935\n",
      "    Validation error: 2.80320616043\n",
      "==> Validation iteration count: 12\n",
      "    Iteration   0: error = 5.25914296262\n",
      "    Iteration 100: error = 4.97567454347\n",
      "    Validation error: 2.29471301643\n",
      "==> Validation iteration count: 13\n",
      "    Iteration   0: error = 4.55097488223\n",
      "    Iteration 100: error = 4.02012713993\n",
      "    Validation error: 1.49399742017\n",
      "==> Validation iteration count: 14\n",
      "    Iteration   0: error = 3.29995519082\n",
      "    Iteration 100: error = 2.6332035689\n",
      "    Validation error: 0.855012410855\n",
      "==> Validation iteration count: 15\n",
      "    Iteration   0: error = 2.02896764495\n",
      "    Iteration 100: error = 1.6467649165\n",
      "    Validation error: 0.712185745807\n",
      "==> Validation iteration count: 16\n",
      "    Iteration   0: error = 1.38641228689\n",
      "    Iteration 100: error = 1.2517304256\n",
      "    Validation error: 0.784146821246\n"
     ]
    }
   ],
   "source": [
    "nn.early_stopping(valid, y_valid, 0.1, epochs=200)"
   ]
  },
  {
   "cell_type": "markdown",
   "metadata": {
    "collapsed": true,
    "deletable": true,
    "editable": true
   },
   "source": [
    "### Classification with The Iris Dataset"
   ]
  },
  {
   "cell_type": "code",
   "execution_count": 19,
   "metadata": {
    "collapsed": true,
    "deletable": true,
    "editable": true
   },
   "outputs": [],
   "source": [
    "from sklearn import datasets"
   ]
  },
  {
   "cell_type": "code",
   "execution_count": 20,
   "metadata": {
    "collapsed": true,
    "deletable": true,
    "editable": true
   },
   "outputs": [],
   "source": [
    "iris = datasets.load_iris()"
   ]
  },
  {
   "cell_type": "code",
   "execution_count": 21,
   "metadata": {
    "collapsed": false,
    "deletable": true,
    "editable": true
   },
   "outputs": [],
   "source": [
    "X = iris.data\n",
    "y = iris.target"
   ]
  },
  {
   "cell_type": "markdown",
   "metadata": {
    "deletable": true,
    "editable": true
   },
   "source": [
    "### One-hot encoding of target variable"
   ]
  },
  {
   "cell_type": "code",
   "execution_count": 22,
   "metadata": {
    "collapsed": false,
    "deletable": true,
    "editable": true
   },
   "outputs": [],
   "source": [
    "y_encoded = np.zeros((iris.target.shape[0], 3))"
   ]
  },
  {
   "cell_type": "code",
   "execution_count": 23,
   "metadata": {
    "collapsed": true,
    "deletable": true,
    "editable": true
   },
   "outputs": [],
   "source": [
    "y_encoded[np.where(y == 0), 0] = 1\n",
    "y_encoded[np.where(y == 1), 1] = 1\n",
    "y_encoded[np.where(y == 2), 2] = 1"
   ]
  },
  {
   "cell_type": "code",
   "execution_count": 24,
   "metadata": {
    "collapsed": true,
    "deletable": true,
    "editable": true
   },
   "outputs": [],
   "source": [
    "train, y_train = X[::2, 0:4], y_encoded[::2]\n",
    "valid, y_valid = X[1::4, 0:4], y_encoded[1::4]"
   ]
  },
  {
   "cell_type": "markdown",
   "metadata": {
    "deletable": true,
    "editable": true
   },
   "source": [
    "## Testing"
   ]
  },
  {
   "cell_type": "code",
   "execution_count": 25,
   "metadata": {
    "collapsed": true,
    "deletable": true,
    "editable": true
   },
   "outputs": [],
   "source": [
    "nn2 = MLP(train, y_train, 5, activation=\"logistic\")"
   ]
  },
  {
   "cell_type": "code",
   "execution_count": 26,
   "metadata": {
    "collapsed": false,
    "deletable": true,
    "editable": true
   },
   "outputs": [
    {
     "name": "stdout",
     "output_type": "stream",
     "text": [
      "==> Validation iteration count: 1\n",
      "    Iteration   0: error = 26.63155071\n",
      "    Validation error: 6.25246340301\n",
      "==> Validation iteration count: 2\n",
      "    Iteration   0: error = 12.5006592543\n",
      "    Validation error: 6.25007222402\n",
      "==> Validation iteration count: 3\n",
      "    Iteration   0: error = 12.5001465858\n",
      "    Validation error: 6.25007199645\n"
     ]
    }
   ],
   "source": [
    "nn2.early_stopping(valid, y_valid, 0.1)"
   ]
  },
  {
   "cell_type": "code",
   "execution_count": null,
   "metadata": {
    "collapsed": true
   },
   "outputs": [],
   "source": []
  }
 ],
 "metadata": {
  "kernelspec": {
   "display_name": "Python 2",
   "language": "python",
   "name": "python2"
  },
  "language_info": {
   "codemirror_mode": {
    "name": "ipython",
    "version": 2
   },
   "file_extension": ".py",
   "mimetype": "text/x-python",
   "name": "python",
   "nbconvert_exporter": "python",
   "pygments_lexer": "ipython2",
   "version": "2.7.13"
  }
 },
 "nbformat": 4,
 "nbformat_minor": 2
}
