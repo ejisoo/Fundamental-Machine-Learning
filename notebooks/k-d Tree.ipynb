{
 "cells": [
  {
   "cell_type": "markdown",
   "metadata": {
    "deletable": true,
    "editable": true
   },
   "source": [
    "# _k_-dimensional Tree (_k_-d Tree)"
   ]
  },
  {
   "cell_type": "code",
   "execution_count": 1,
   "metadata": {
    "collapsed": true,
    "deletable": true,
    "editable": true
   },
   "outputs": [],
   "source": [
    "from collections import namedtuple\n",
    "from pprint import pformat"
   ]
  },
  {
   "cell_type": "code",
   "execution_count": 2,
   "metadata": {
    "collapsed": true,
    "deletable": true,
    "editable": true
   },
   "outputs": [],
   "source": [
    "import numpy as np\n",
    "import matplotlib.pyplot as plt\n",
    "import seaborn as sns\n",
    "sns.set_style(\"darkgrid\")\n",
    "%matplotlib inline"
   ]
  },
  {
   "cell_type": "markdown",
   "metadata": {
    "deletable": true,
    "editable": true
   },
   "source": [
    "### Buliding a Tree"
   ]
  },
  {
   "cell_type": "code",
   "execution_count": 3,
   "metadata": {
    "collapsed": false,
    "deletable": true,
    "editable": true
   },
   "outputs": [],
   "source": [
    "class KDNode(namedtuple('Node', 'point left_child right_child')):\n",
    "    \"\"\"\n",
    "    \"\"\"\n",
    "    def __repr__(self):\n",
    "        return pformat(tuple(self))"
   ]
  },
  {
   "cell_type": "code",
   "execution_count": 4,
   "metadata": {
    "collapsed": false,
    "deletable": true,
    "editable": true
   },
   "outputs": [],
   "source": [
    "def kdtree(data, depth=0):\n",
    "    \"\"\"Build k-dimensional tree\n",
    "    \"\"\"\n",
    "    assert data.shape[1] == 2\n",
    "    if data.shape[0] < 1:\n",
    "        return None\n",
    "    elif data.shape[0] == 1:\n",
    "        return KDNode(point = data[0, :], left_child = None, right_child = None)\n",
    "    else:\n",
    "        axis = depth % data.shape[1]  # switch between split orientations\n",
    "        idx_sort = np.argsort(data[:, axis])\n",
    "        data = data[idx_sort, :]\n",
    "        median = len(data) // 2\n",
    "        return KDNode(point = data[median, :],\n",
    "                      left_child = kdtree(data[:median, :], depth + 1),\n",
    "                      right_child = kdtree(data[median + 1:, :], depth + 1))"
   ]
  },
  {
   "cell_type": "markdown",
   "metadata": {
    "deletable": true,
    "editable": true
   },
   "source": [
    "### Nearest Neighbor"
   ]
  },
  {
   "cell_type": "code",
   "execution_count": 5,
   "metadata": {
    "collapsed": false,
    "deletable": true,
    "editable": true
   },
   "outputs": [],
   "source": [
    "def nearest_neighbor_search(tree, query_point, depth=0):\n",
    "    \"\"\"recursively search nearest neighbor\n",
    "    \"\"\"\n",
    "    assert tree is not None\n",
    "    \n",
    "    if tree.left_child is None:\n",
    "        distance = ((tree.point - query_point) ** 2).sum()\n",
    "        return tree.point, distance, 0\n",
    "    \n",
    "    else:\n",
    "        axis = depth % query_point.shape[0]\n",
    "        # print(\"Searching \\\"near\\\" subtree..\")\n",
    "        if query_point[axis] < tree.point[axis]:\n",
    "            near_subtree = tree.left_child\n",
    "        else:\n",
    "            near_subtree = tree.right_child\n",
    "        \n",
    "        distance3 = ((tree.point - query_point) ** 2).sum()\n",
    " \n",
    "        # print(\"DEBUG:: near subtree: {}\".format(near_subtree))\n",
    "        if near_subtree is None:\n",
    "            return tree.point, distance3, 0\n",
    "        \n",
    "        else:\n",
    "            best_neighbor, distance, height = nearest_neighbor_search(near_subtree, query_point, depth + 1)\n",
    "            print(\"DEBUG:: Depth: {}\".format(depth))\n",
    "            print(\"DEBUG:: Height: {}\".format(height))\n",
    "            \n",
    "            if height <= 2:\n",
    "                # print(\"DEBUG:: Searching \\\"far\\\" subtree..\")\n",
    "                if query_point[axis] < tree.point[axis]:\n",
    "                    far_subtree = tree.right_child\n",
    "                else:\n",
    "                    far_subtree = tree.left_child\n",
    "                \n",
    "                if far_subtree is None:\n",
    "                    return tree.point, distance3, 0\n",
    "                \n",
    "                else:\n",
    "                    best_neighbor2, distance2, height2 = nearest_neighbor_search(far_subtree, query_point, depth + 1)\n",
    "                    if distance3 < distance2:\n",
    "                        distance2 = distance3\n",
    "                        best_neighbor2 = tree.point\n",
    "\n",
    "                    if distance2 < distance:\n",
    "                        distance = distance2\n",
    "                        best_neighbor = best_neighbor2\n",
    "                    \n",
    "            return best_neighbor, distance, height + 1"
   ]
  },
  {
   "cell_type": "code",
   "execution_count": 6,
   "metadata": {
    "collapsed": false,
    "deletable": true,
    "editable": true
   },
   "outputs": [],
   "source": [
    "data = np.array([[5,4], [1, 6], [6, 1], [7, 5], [10, 14], [8, 3], [4, 3], [4, 6], [7, 6], [3, 5], [2, 7], [2, 2], [6, 8], [3, 9]])"
   ]
  },
  {
   "cell_type": "code",
   "execution_count": 7,
   "metadata": {
    "collapsed": false,
    "deletable": true,
    "editable": true
   },
   "outputs": [
    {
     "data": {
      "text/plain": [
       "[<matplotlib.lines.Line2D at 0x111746890>]"
      ]
     },
     "execution_count": 7,
     "metadata": {},
     "output_type": "execute_result"
    },
    {
     "data": {
      "image/png": "[encoded data removed]",
      "text/plain": [
       "<matplotlib.figure.Figure at 0x1117468d0>"
      ]
     },
     "metadata": {},
     "output_type": "display_data"
    }
   ],
   "source": [
    "plt.scatter(data[:,0], data[:,1], s=25, marker='x')\n",
    "plt.xlim(0, 11)\n",
    "plt.ylim(0, 15)\n",
    "plt.plot([5, 5], [0, 15], c='r', linewidth=1)"
   ]
  },
  {
   "cell_type": "code",
   "execution_count": 8,
   "metadata": {
    "collapsed": false,
    "deletable": true,
    "editable": true
   },
   "outputs": [
    {
     "data": {
      "text/plain": [
       "(array([5, 4]),\n",
       " (array([1, 6]),\n",
       " (array([3, 5]), (array([2, 2]), None, None), (array([4, 3]), None, None)),\n",
       " (array([3, 9]), (array([2, 7]), None, None), (array([4, 6]), None, None))),\n",
       " (array([7, 6]),\n",
       " (array([7, 5]), (array([6, 1]), None, None), (array([8, 3]), None, None)),\n",
       " (array([10, 14]), (array([6, 8]), None, None), None)))"
      ]
     },
     "execution_count": 8,
     "metadata": {},
     "output_type": "execute_result"
    }
   ],
   "source": [
    "tree = kdtree(data)\n",
    "tree"
   ]
  },
  {
   "cell_type": "code",
   "execution_count": null,
   "metadata": {
    "collapsed": true,
    "deletable": true,
    "editable": true
   },
   "outputs": [],
   "source": []
  },
  {
   "cell_type": "code",
   "execution_count": 9,
   "metadata": {
    "collapsed": false,
    "deletable": true,
    "editable": true
   },
   "outputs": [],
   "source": [
    "def draw_split(tree, axis, xmin, xmax, ymin, ymax, point=[], depth=0):\n",
    "    \"\"\"\n",
    "    \"\"\"\n",
    "    if depth == 0 and not point:\n",
    "        point = [xmin, ymax]\n",
    "    \n",
    "    xmin_, xmax_ = xmin, xmax\n",
    "    ymin_, ymax_ = ymin, ymax\n",
    "    prev_axis = (axis - 1) % 2\n",
    "    bound = point[prev_axis]\n",
    "    \n",
    "    coord = tree.point[axis]\n",
    "    if axis == 0:\n",
    "        if tree.point[prev_axis] < bound:\n",
    "            line = plt.plot([coord, coord], [ymin, bound])\n",
    "            ymax_ = bound\n",
    "        else:\n",
    "            line = plt.plot([coord, coord], [bound, ymax])\n",
    "            ymin_ = bound\n",
    "    else:\n",
    "        if tree.point[prev_axis] < bound:\n",
    "            line = plt.plot([xmin, bound], [coord, coord])\n",
    "            xmax_ = bound\n",
    "        else:\n",
    "            line = plt.plot([bound, xmax], [coord, coord])\n",
    "            xmin_ = bound\n",
    "\n",
    "    if line:\n",
    "        plt.setp(line, linewidth=1, linestyle='-', color='r')\n",
    "\n",
    "    axis = (axis + 1) % 2\n",
    "    depth += 1\n",
    "    \n",
    "    # if hasattr(tree.left_child, \"__len__\"):\n",
    "    if tree.left_child is not None:\n",
    "        draw_split(tree.left_child, axis, xmin_, xmax_, ymin_, ymax_, tree.point, depth)\n",
    "        \n",
    "    if tree.right_child is not None:\n",
    "        draw_split(tree.right_child, axis, xmin_, xmax_, ymin_, ymax_, tree.point, depth)"
   ]
  },
  {
   "cell_type": "code",
   "execution_count": 10,
   "metadata": {
    "collapsed": false,
    "deletable": true,
    "editable": true
   },
   "outputs": [
    {
     "data": {
      "image/png": "[encoded data removed]",
      "text/plain": [
       "<matplotlib.figure.Figure at 0x111878110>"
      ]
     },
     "metadata": {},
     "output_type": "display_data"
    }
   ],
   "source": [
    "plt.scatter(data[:,0], data[:,1], s=25, marker='x')\n",
    "plt.xlim(0, 11)\n",
    "plt.ylim(0, 15)\n",
    "draw_split(tree, 0, 0, 11, 0, 15)"
   ]
  },
  {
   "cell_type": "code",
   "execution_count": 11,
   "metadata": {
    "collapsed": false,
    "deletable": true,
    "editable": true
   },
   "outputs": [
    {
     "name": "stdout",
     "output_type": "stream",
     "text": [
      "DEBUG:: Depth: 2\n",
      "DEBUG:: Height: 0\n",
      "DEBUG:: Depth: 1\n",
      "DEBUG:: Height: 0\n",
      "DEBUG:: Depth: 2\n",
      "DEBUG:: Height: 0\n",
      "DEBUG:: Depth: 0\n",
      "DEBUG:: Height: 1\n",
      "DEBUG:: Depth: 2\n",
      "DEBUG:: Height: 0\n",
      "DEBUG:: Depth: 1\n",
      "DEBUG:: Height: 1\n",
      "DEBUG:: Depth: 2\n",
      "DEBUG:: Height: 0\n"
     ]
    },
    {
     "data": {
      "text/plain": [
       "(array([7, 6]), 13, 2)"
      ]
     },
     "execution_count": 11,
     "metadata": {},
     "output_type": "execute_result"
    }
   ],
   "source": [
    "nearest_neighbor_search(tree=tree, query_point=np.array([9, 9]))"
   ]
  },
  {
   "cell_type": "markdown",
   "metadata": {
    "deletable": true,
    "editable": true
   },
   "source": [
    "### Another example"
   ]
  },
  {
   "cell_type": "code",
   "execution_count": 12,
   "metadata": {
    "collapsed": true,
    "deletable": true,
    "editable": true
   },
   "outputs": [],
   "source": [
    "np.random.seed(0)\n",
    "\n",
    "X = np.random.random((30, 2)) * 2 - 1\n",
    "X[:, 1] *= 0.1\n",
    "X[:, 1] += X[:, 0] ** 2"
   ]
  },
  {
   "cell_type": "code",
   "execution_count": 13,
   "metadata": {
    "collapsed": true,
    "deletable": true,
    "editable": true
   },
   "outputs": [],
   "source": [
    "tree2 = kdtree(X)"
   ]
  },
  {
   "cell_type": "code",
   "execution_count": 14,
   "metadata": {
    "collapsed": false,
    "deletable": true,
    "editable": true
   },
   "outputs": [
    {
     "data": {
      "image/png": "[encoded data removed]",
      "text/plain": [
       "<matplotlib.figure.Figure at 0x111746bd0>"
      ]
     },
     "metadata": {},
     "output_type": "display_data"
    }
   ],
   "source": [
    "plt.scatter(X[:,0], X[:,1], s=25, marker='x')\n",
    "# [-1.1, -0.1], [1.1, 1.1]\n",
    "plt.xlim(-1.1, 1.1)\n",
    "plt.ylim(-0.1, 1.1)\n",
    "\n",
    "draw_split(tree2, 0, -1.5, 1.1, -0.1, 1.1)"
   ]
  },
  {
   "cell_type": "code",
   "execution_count": null,
   "metadata": {
    "collapsed": true
   },
   "outputs": [],
   "source": []
  }
 ],
 "metadata": {
  "kernelspec": {
   "display_name": "Python 2",
   "language": "python",
   "name": "python2"
  },
  "language_info": {
   "codemirror_mode": {
    "name": "ipython",
    "version": 2
   },
   "file_extension": ".py",
   "mimetype": "text/x-python",
   "name": "python",
   "nbconvert_exporter": "python",
   "pygments_lexer": "ipython2",
   "version": "2.7.13"
  }
 },
 "nbformat": 4,
 "nbformat_minor": 2
}
