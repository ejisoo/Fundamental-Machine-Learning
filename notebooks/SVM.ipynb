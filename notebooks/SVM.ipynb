{
 "cells": [
  {
   "cell_type": "markdown",
   "metadata": {
    "deletable": true,
    "editable": true
   },
   "source": [
    "# Support Vector Machines"
   ]
  },
  {
   "cell_type": "code",
   "execution_count": 1,
   "metadata": {
    "collapsed": true,
    "deletable": true,
    "editable": true
   },
   "outputs": [],
   "source": [
    "from __future__ import division\n",
    "import numpy as np"
   ]
  },
  {
   "cell_type": "markdown",
   "metadata": {
    "deletable": true,
    "editable": true
   },
   "source": [
    "To construct the optimal hyperplane that devides two classes, we have to solve\n",
    "\n",
    "$$\n",
    "\\begin{align}\n",
    "&\\mbox{minimize  } \\frac{1}{2} w^T w\\\\\n",
    "&\\mbox{subject to  } y_i (w^T x_i + b) \\ge 1 \\mbox{ for all } i = 1,\\dots,n\n",
    "\\end{align}\n",
    "$$\n",
    "\n",
    "This is a _constrained optimization problem_ and can be solved by introducting Lagrange multiplier $a_i \\ge 0$.\n",
    "\n",
    "$$\n",
    "L = \\frac{1}{2} w^T w + \\sum a_i \\left( 1 - y_i (w^T w + b) \\right)\n",
    "$$\n",
    "\n",
    "The Lagrangian $L$ is to be minized w.r.t. $w$ and $b$, and maximized w.r.t. the Lagrange multiplier $a_i \\ge 0$.\n",
    "In other words, a saddle point has to be found. Knowing that the derivatives must vanish leads to\n",
    "\n",
    "$$\n",
    "w = \\sum a_i y_i x_i, \\quad\n",
    "\\sum a_i y_i = 0.\n",
    "$$"
   ]
  },
  {
   "cell_type": "markdown",
   "metadata": {
    "deletable": true,
    "editable": true
   },
   "source": [
    "### Soft Margins"
   ]
  },
  {
   "cell_type": "markdown",
   "metadata": {},
   "source": [
    "## Kernel Functions"
   ]
  },
  {
   "cell_type": "code",
   "execution_count": 2,
   "metadata": {
    "collapsed": false,
    "deletable": true,
    "editable": true
   },
   "outputs": [],
   "source": [
    "def linear_kernel(sigma, **kwargs):\n",
    "    def f(x, y):\n",
    "        return 1. + 1. / sigma * np.dot(x, y.T)\n",
    "    return f\n",
    "\n",
    "\n",
    "def polynomial_kernel(sigma, degree, **kwargs):\n",
    "    def f(x, y):\n",
    "        return (1. + 1. / sigma * np.dot(x, y.T)) ** degree\n",
    "    return f\n",
    "\n",
    "\n",
    "def rbf_kernel(sigma, **kwargs):\n",
    "    def f(x, y):\n",
    "        m = x.shape[0]\n",
    "        n = y.shape[0]\n",
    "        K = (2 * np.dot(x, y.T)\n",
    "             - np.dot(np.ones((n, 1)), np.atleast_2d(np.sum(x ** 2, axis=1))).T\n",
    "             - np.dot(np.ones((m, 1)), np.atleast_2d(np.sum(y ** 2, axis=1))))\n",
    "        return np.exp(K / 2 / sigma ** 2)\n",
    "    return f"
   ]
  },
  {
   "cell_type": "markdown",
   "metadata": {
    "deletable": true,
    "editable": true
   },
   "source": [
    "## `cvxopt`"
   ]
  },
  {
   "cell_type": "code",
   "execution_count": 3,
   "metadata": {
    "collapsed": true,
    "deletable": true,
    "editable": true
   },
   "outputs": [],
   "source": [
    "from sklearn import datasets\n",
    "from sklearn.preprocessing import normalize\n",
    "from sklearn.model_selection import train_test_split\n",
    "import cvxopt\n",
    "cvxopt.solvers.options['show_progress'] = False"
   ]
  },
  {
   "cell_type": "markdown",
   "metadata": {
    "deletable": true,
    "editable": true
   },
   "source": [
    "Quadratic programming solver `cvxopt.solvers.qp` takes the inputs `P, q, G, h, A, b` where\n",
    "\n",
    "$$\n",
    "\\begin{align}\n",
    "& \\mbox{minimize } \\frac{1}{2} x^T P x + q^T x \\\\\n",
    "& \\mbox{subject to } Gx \\le h, Ax = b\n",
    "\\end{align}\n",
    "$$\n",
    "\n",
    "and $P = y_i y_j K$."
   ]
  },
  {
   "cell_type": "code",
   "execution_count": 4,
   "metadata": {
    "collapsed": false,
    "deletable": true,
    "editable": true
   },
   "outputs": [],
   "source": [
    "class SVM:\n",
    "\n",
    "    def __init__(self, kernel='linear', C=None, sigma=1.0, degree=1, thresh=1e-7):\n",
    "        self.kernel = kernel\n",
    "        self.C = C\n",
    "        self.sigma = sigma\n",
    "        self.degree = degree\n",
    "        self.thresh = thresh\n",
    "        \n",
    "    def _kernel(self):\n",
    "        if self.kernel == 'linear':\n",
    "            return linear_kernel\n",
    "        elif self.kernel == 'poly':\n",
    "            return polynomial_kernel\n",
    "        elif self.kernel == 'rbf':\n",
    "            return rbf_kernel\n",
    "        else:\n",
    "            raise ValueError(\"ERROR:: kernel {} not recognized\".format(self.kernel))\n",
    "        \n",
    "    def fit(self, X, y):\n",
    "        n_samples, n_features = X.shape\n",
    "        \n",
    "        if y.ndim == 1:\n",
    "            y = y.reshape((-1, 1))\n",
    "        \n",
    "        self.build_kernel = self._kernel()\n",
    "        self.build_kernel = self.build_kernel(sigma=self.sigma, degree=self.degree)\n",
    "        K = self.build_kernel(X, X)\n",
    "        \n",
    "        P = cvxopt.matrix(y * y.T * K, tc='d')\n",
    "        q = cvxopt.matrix(-np.ones(n_samples))\n",
    "        \n",
    "        if self.C is None:\n",
    "            G = cvxopt.matrix(-np.eye(n_samples))\n",
    "            h = cvxopt.matrix(np.zeros((n_samples, 1)))\n",
    "        else:\n",
    "            G = cvxopt.matrix(np.vstack((np.eye(n_samples), -np.eye(n_samples))))\n",
    "            h = cvxopt.matrix(np.vstack((self.C * np.ones((n_samples, 1)), np.zeros((n_samples, 1)))))\n",
    "        \n",
    "        A = cvxopt.matrix(y.reshape((1, n_samples)), tc='d')\n",
    "        b = cvxopt.matrix(0, tc='d')\n",
    "        \n",
    "        # Solve QP problem\n",
    "        sol = cvxopt.solvers.qp(P, q, G, h, A, b)\n",
    "        \n",
    "        a = np.array(sol['x'])  # Langrange multipliers\n",
    "        self.support = np.where(a > self.thresh)[0]  # non-zero Lagrange multipliers\n",
    "        self.support_vectors = X[self.support]  # support vectors\n",
    "        self.n_support = self.support_vectors.shape[0]\n",
    "        self.dual_coef = a[self.support] * y[self.support]  # corresponding targets\n",
    "        \n",
    "        self.intercept = np.sum(y[self.support])\n",
    "        # loop over support vectors\n",
    "        for i in range(self.n_support):\n",
    "            self.intercept -= np.sum(self.dual_coef * K[self.support[i], self.support].reshape(self.n_support, 1))\n",
    "        self.intercept /= self.n_support\n",
    "        \n",
    "        print(\"DEBUG:: Number of support vectors: {}\".format(self.n_support))\n",
    "        print(\"DEBUG:: Intercept: {}\".format(self.intercept))\n",
    "        \n",
    "    def predict(self, X, soft=False):\n",
    "        y_pred = np.empty(len(X))\n",
    "        K = self.build_kernel(X, self.support_vectors)\n",
    "        \n",
    "        for j in range(len(X)):\n",
    "            prediction = 0\n",
    "            for i in range(self.n_support):\n",
    "                prediction += self.dual_coef[i] * K[j, i]\n",
    "            prediction += self.intercept\n",
    "            y_pred[j] = prediction if soft else np.sign(prediction)\n",
    "            \n",
    "        return y_pred"
   ]
  },
  {
   "cell_type": "markdown",
   "metadata": {
    "deletable": true,
    "editable": true
   },
   "source": [
    "## Example: Iris Dataset"
   ]
  },
  {
   "cell_type": "code",
   "execution_count": 5,
   "metadata": {
    "collapsed": false,
    "deletable": true,
    "editable": true
   },
   "outputs": [],
   "source": [
    "iris = datasets.load_iris()\n",
    "X = iris.data[:, [1, 3]]\n",
    "y = iris.target\n",
    "# X = normalize(X[y != 0])\n",
    "X = X[y != 0]\n",
    "y = y[y != 0]\n",
    "\n",
    "# make target values -1, 1\n",
    "y[y == 1] = -1\n",
    "y[y == 2] = 1\n",
    "\n",
    "X_train, X_test, y_train, y_test = train_test_split(X, y, test_size=0.33, random_state=0)"
   ]
  },
  {
   "cell_type": "code",
   "execution_count": 6,
   "metadata": {
    "collapsed": false,
    "deletable": true,
    "editable": true
   },
   "outputs": [
    {
     "name": "stdout",
     "output_type": "stream",
     "text": [
      "DEBUG:: Number of support vectors: 32\n",
      "DEBUG:: Intercept: 0.246485859779\n"
     ]
    }
   ],
   "source": [
    "clf = SVM(kernel='rbf', C=1.0, thresh=1e-5, degree=4)\n",
    "clf.fit(X_train, y_train)"
   ]
  },
  {
   "cell_type": "code",
   "execution_count": 7,
   "metadata": {
    "collapsed": false,
    "deletable": true,
    "editable": true
   },
   "outputs": [],
   "source": [
    "y_pred = clf.predict(X_test)"
   ]
  },
  {
   "cell_type": "code",
   "execution_count": 8,
   "metadata": {
    "collapsed": true,
    "deletable": true,
    "editable": true
   },
   "outputs": [],
   "source": [
    "def accuracy_score(y_true, y_pred):\n",
    "    return (y_true == y_pred).sum() / len(y_pred)"
   ]
  },
  {
   "cell_type": "code",
   "execution_count": 9,
   "metadata": {
    "collapsed": false,
    "deletable": true,
    "editable": true
   },
   "outputs": [
    {
     "name": "stdout",
     "output_type": "stream",
     "text": [
      "Accuracy: 0.969696969697\n"
     ]
    }
   ],
   "source": [
    "score = accuracy_score(y_test, y_pred)\n",
    "print(\"Accuracy: {}\".format(score))"
   ]
  },
  {
   "cell_type": "markdown",
   "metadata": {
    "deletable": true,
    "editable": true
   },
   "source": [
    "## Visualizing the result"
   ]
  },
  {
   "cell_type": "code",
   "execution_count": 10,
   "metadata": {
    "collapsed": true,
    "deletable": true,
    "editable": true
   },
   "outputs": [],
   "source": [
    "import matplotlib.pyplot as plt\n",
    "import seaborn as sns\n",
    "%matplotlib inline\n",
    "sns.set()"
   ]
  },
  {
   "cell_type": "code",
   "execution_count": 11,
   "metadata": {
    "collapsed": true,
    "deletable": true,
    "editable": true
   },
   "outputs": [],
   "source": [
    "def make_meshgrid(x, y, h=0.02):\n",
    "    x_min, x_max = x.min() - 1, x.max() + 1\n",
    "    y_min, y_max = y.min() - 1, y.max() + 1\n",
    "    xx, yy = np.meshgrid(np.arange(x_min, x_max, h),\n",
    "                         np.arange(y_min, y_max, h))\n",
    "    return xx, yy"
   ]
  },
  {
   "cell_type": "code",
   "execution_count": 12,
   "metadata": {
    "collapsed": false,
    "deletable": true,
    "editable": true
   },
   "outputs": [
    {
     "data": {
      "text/plain": [
       "<matplotlib.collections.PathCollection at 0x10a3d2dd0>"
      ]
     },
     "execution_count": 12,
     "metadata": {},
     "output_type": "execute_result"
    },
    {
     "data": {
      "image/png": "[encoded data removed]",
      "text/plain": [
       "<matplotlib.figure.Figure at 0x10a3d2990>"
      ]
     },
     "metadata": {},
     "output_type": "display_data"
    }
   ],
   "source": [
    "X0, X1 = X[:, 0], X[:, 1]\n",
    "xx, yy = make_meshgrid(X0, X1)\n",
    "#\n",
    "Z = clf.predict(np.c_[xx.ravel(), yy.ravel()])\n",
    "Z = Z.reshape(xx.shape)\n",
    "#\n",
    "plt.contourf(xx, yy, Z, cmap=plt.cm.Spectral)\n",
    "plt.scatter(X0, X1, c=y, cmap=plt.cm.Spectral, s=40, edgecolor='k', linewidth=1)"
   ]
  },
  {
   "cell_type": "markdown",
   "metadata": {
    "collapsed": true,
    "deletable": true,
    "editable": true
   },
   "source": [
    "## Using Scikit-learn"
   ]
  },
  {
   "cell_type": "code",
   "execution_count": 13,
   "metadata": {
    "collapsed": false,
    "deletable": true,
    "editable": true
   },
   "outputs": [],
   "source": [
    "from sklearn.model_selection import cross_val_score\n",
    "from sklearn.metrics import accuracy_score\n",
    "from sklearn.preprocessing import StandardScaler\n",
    "from sklearn.svm import SVC, SVR"
   ]
  },
  {
   "cell_type": "code",
   "execution_count": 14,
   "metadata": {
    "collapsed": false,
    "deletable": true,
    "editable": true
   },
   "outputs": [],
   "source": [
    "clf2 = SVC(kernel='rbf', C=1.0, gamma=1.0, random_state=0)\n",
    "clf2.fit(X_train, y_train)\n",
    "y_pred2 = clf2.predict(X_test)"
   ]
  },
  {
   "cell_type": "code",
   "execution_count": 15,
   "metadata": {
    "collapsed": false,
    "deletable": true,
    "editable": true
   },
   "outputs": [
    {
     "name": "stdout",
     "output_type": "stream",
     "text": [
      "Accuracy: 1.0\n",
      "Accuracy: 0.941666666667\n"
     ]
    }
   ],
   "source": [
    "score = accuracy_score(y_test, y_pred2)\n",
    "print(\"Accuracy: {}\".format(score))\n",
    "# \n",
    "scores = cross_val_score(clf2, X, y, cv=20, scoring='accuracy')\n",
    "print(\"Accuracy: {}\".format(np.mean(scores)))"
   ]
  },
  {
   "cell_type": "code",
   "execution_count": 16,
   "metadata": {
    "collapsed": false,
    "deletable": true,
    "editable": true
   },
   "outputs": [
    {
     "data": {
      "text/plain": [
       "<matplotlib.collections.PathCollection at 0x10d1797d0>"
      ]
     },
     "execution_count": 16,
     "metadata": {},
     "output_type": "execute_result"
    },
    {
     "data": {
      "image/png": "[encoded data removed]",
      "text/plain": [
       "<matplotlib.figure.Figure at 0x112237a90>"
      ]
     },
     "metadata": {},
     "output_type": "display_data"
    }
   ],
   "source": [
    "Z2 = clf2.predict(np.c_[xx.ravel(), yy.ravel()])\n",
    "Z2 = Z2.reshape(xx.shape)\n",
    "plt.contourf(xx, yy, Z2, cmap=plt.cm.Spectral)\n",
    "plt.scatter(X0, X1, c=y, cmap=plt.cm.Spectral, s=40, edgecolor='k', linewidth=1)"
   ]
  },
  {
   "cell_type": "code",
   "execution_count": null,
   "metadata": {
    "collapsed": true,
    "deletable": true,
    "editable": true
   },
   "outputs": [],
   "source": []
  }
 ],
 "metadata": {
  "kernelspec": {
   "display_name": "Python 2",
   "language": "python",
   "name": "python2"
  },
  "language_info": {
   "codemirror_mode": {
    "name": "ipython",
    "version": 2
   },
   "file_extension": ".py",
   "mimetype": "text/x-python",
   "name": "python",
   "nbconvert_exporter": "python",
   "pygments_lexer": "ipython2",
   "version": "2.7.13"
  }
 },
 "nbformat": 4,
 "nbformat_minor": 2
}
