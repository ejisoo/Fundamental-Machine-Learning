{
 "cells": [
  {
   "cell_type": "markdown",
   "metadata": {
    "deletable": true,
    "editable": true
   },
   "source": [
    "# _k_-Nearest Neighbors (kNN)"
   ]
  },
  {
   "cell_type": "code",
   "execution_count": 1,
   "metadata": {
    "collapsed": true,
    "deletable": true,
    "editable": true
   },
   "outputs": [],
   "source": [
    "import numpy as np"
   ]
  },
  {
   "cell_type": "code",
   "execution_count": 2,
   "metadata": {
    "collapsed": false,
    "deletable": true,
    "editable": true
   },
   "outputs": [],
   "source": [
    "class KNN:\n",
    "    def __init__(self, k):\n",
    "        self.k = k\n",
    "        \n",
    "    def fit(self, X, y):\n",
    "        self._X = X\n",
    "        self._y = y\n",
    "    \n",
    "    def predict(self, X):\n",
    "        y_pred = np.empty(len(X))\n",
    "        for i, x in enumerate(X):\n",
    "            dist = np.sum((self._X - x) ** 2, axis=1)\n",
    "            idx = dist.argsort()[:self.k]\n",
    "            \n",
    "            k_classes = self._y[idx]\n",
    "            counts = np.bincount(k_classes)\n",
    "            ranks = counts.argsort()[::-1]\n",
    "            y_pred[i] = ranks[0]\n",
    "            \n",
    "        return y_pred"
   ]
  },
  {
   "cell_type": "code",
   "execution_count": 3,
   "metadata": {
    "collapsed": true,
    "deletable": true,
    "editable": true
   },
   "outputs": [],
   "source": [
    "from sklearn import datasets\n",
    "\n",
    "iris = datasets.load_iris()\n",
    "X = iris.data[:, [2, 3]]\n",
    "y = iris.target"
   ]
  },
  {
   "cell_type": "code",
   "execution_count": 4,
   "metadata": {
    "collapsed": false,
    "deletable": true,
    "editable": true
   },
   "outputs": [],
   "source": [
    "from sklearn.model_selection import train_test_split\n",
    "from sklearn.preprocessing import StandardScaler\n",
    "\n",
    "sc = StandardScaler()\n",
    "X_std = np.copy(X)\n",
    "X_std = sc.fit_transform(X_std)\n",
    "X_train, X_test, y_train, y_test = train_test_split(X_std, y, test_size=0.33, random_state=0)"
   ]
  },
  {
   "cell_type": "code",
   "execution_count": 5,
   "metadata": {
    "collapsed": false,
    "deletable": true,
    "editable": true
   },
   "outputs": [],
   "source": [
    "knn = KNN(k=5)\n",
    "knn.fit(X_train, y_train)\n",
    "y_pred = knn.predict(X_test)"
   ]
  },
  {
   "cell_type": "code",
   "execution_count": 6,
   "metadata": {
    "collapsed": false,
    "deletable": true,
    "editable": true
   },
   "outputs": [
    {
     "name": "stdout",
     "output_type": "stream",
     "text": [
      "Accuracy: 0.96\n"
     ]
    }
   ],
   "source": [
    "from __future__ import division\n",
    "\n",
    "def accuracy_score(y_true, y_pred):\n",
    "    return (y_true == y_pred).sum() / len(y_pred)\n",
    "\n",
    "score = accuracy_score(y_test, y_pred)\n",
    "print(\"Accuracy: {}\".format(score))"
   ]
  },
  {
   "cell_type": "code",
   "execution_count": 7,
   "metadata": {
    "collapsed": true,
    "deletable": true,
    "editable": true
   },
   "outputs": [],
   "source": [
    "import matplotlib.pyplot as plt\n",
    "import seaborn as sns\n",
    "sns.set()\n",
    "%matplotlib inline"
   ]
  },
  {
   "cell_type": "code",
   "execution_count": 8,
   "metadata": {
    "collapsed": false,
    "deletable": true,
    "editable": true
   },
   "outputs": [
    {
     "data": {
      "image/png": "[encoded data removed]",
      "text/plain": [
       "<matplotlib.figure.Figure at 0x10db3b990>"
      ]
     },
     "metadata": {},
     "output_type": "display_data"
    }
   ],
   "source": [
    "def make_meshgrid(x, y, h=0.02):\n",
    "    x_min, x_max = x.min() - 1, x.max() + 1\n",
    "    y_min, y_max = y.min() - 1, y.max() + 1\n",
    "    xx, yy = np.meshgrid(np.arange(x_min, x_max, h),\n",
    "                         np.arange(y_min, y_max, h))\n",
    "    return xx, yy\n",
    "\n",
    "X0, X1 = X_std[:, 0], X_std[:, 1]\n",
    "xx, yy = make_meshgrid(X0, X1)\n",
    "\n",
    "Z = knn.predict(np.c_[xx.ravel(), yy.ravel()])\n",
    "Z = Z.reshape(xx.shape)\n",
    "\n",
    "plt.contourf(xx, yy, Z, cmap=plt.cm.Spectral, alpha=0.8)\n",
    "plt.scatter(X_train[:, 0], X_train[:, 1], c=y_train, marker='o',\n",
    "            cmap=plt.cm.Spectral, s=40, edgecolor='k', linewidth=1)\n",
    "plt.scatter(X_test[:, 0], X_test[:, 1], c=y_test, marker='X',\n",
    "            cmap=plt.cm.Spectral, s=60, edgecolor='k', linewidth=1)\n",
    "plt.xlabel(\"petal length [standardized]\")\n",
    "plt.ylabel(\"petal width [standardized]\")\n",
    "plt.show()"
   ]
  },
  {
   "cell_type": "markdown",
   "metadata": {
    "deletable": true,
    "editable": true
   },
   "source": [
    "# _k_-dimensional Tree (_k_-d Tree)"
   ]
  },
  {
   "cell_type": "code",
   "execution_count": 9,
   "metadata": {
    "collapsed": true,
    "deletable": true,
    "editable": true
   },
   "outputs": [],
   "source": [
    "from collections import namedtuple\n",
    "from pprint import pformat"
   ]
  },
  {
   "cell_type": "markdown",
   "metadata": {
    "deletable": true,
    "editable": true
   },
   "source": [
    "## Buliding a Tree"
   ]
  },
  {
   "cell_type": "code",
   "execution_count": 10,
   "metadata": {
    "collapsed": false,
    "deletable": true,
    "editable": true
   },
   "outputs": [],
   "source": [
    "class KDNode(namedtuple('Node', 'point left_child right_child')):\n",
    "    \"\"\"\n",
    "    \"\"\"\n",
    "    def __repr__(self):\n",
    "        return pformat(tuple(self))"
   ]
  },
  {
   "cell_type": "code",
   "execution_count": 11,
   "metadata": {
    "collapsed": false,
    "deletable": true,
    "editable": true
   },
   "outputs": [],
   "source": [
    "def kdtree(data, depth=0):\n",
    "    \"\"\"Build k-dimensional tree\n",
    "    \"\"\"\n",
    "    assert data.shape[1] == 2\n",
    "    if data.shape[0] < 1:\n",
    "        return None\n",
    "    elif data.shape[0] == 1:\n",
    "        return KDNode(point = data[0, :], left_child = None, right_child = None)\n",
    "    else:\n",
    "        axis = depth % data.shape[1]  # switch between split orientations\n",
    "        idx_sort = np.argsort(data[:, axis])\n",
    "        data = data[idx_sort, :]\n",
    "        median = len(data) // 2\n",
    "        return KDNode(point = data[median, :],\n",
    "                      left_child = kdtree(data[:median, :], depth + 1),\n",
    "                      right_child = kdtree(data[median + 1:, :], depth + 1))"
   ]
  },
  {
   "cell_type": "markdown",
   "metadata": {
    "deletable": true,
    "editable": true
   },
   "source": [
    "## Nearest Neighbor"
   ]
  },
  {
   "cell_type": "code",
   "execution_count": 19,
   "metadata": {
    "collapsed": false,
    "deletable": true,
    "editable": true
   },
   "outputs": [],
   "source": [
    "def nearest_neighbor_search(tree, query_point, depth=0):\n",
    "    \"\"\"recursively search nearest neighbor\n",
    "    \"\"\"\n",
    "    assert tree is not None\n",
    "    \n",
    "    if tree.left_child is None:\n",
    "        distance = ((tree.point - query_point) ** 2).sum()\n",
    "        return tree.point, distance, 0\n",
    "    \n",
    "    else:\n",
    "        axis = depth % query_point.shape[0]\n",
    "        # print(\"Searching \\\"near\\\" subtree..\")\n",
    "        if query_point[axis] < tree.point[axis]:\n",
    "            near_subtree = tree.left_child\n",
    "        else:\n",
    "            near_subtree = tree.right_child\n",
    "        \n",
    "        distance3 = ((tree.point - query_point) ** 2).sum()\n",
    " \n",
    "        # print(\"Near subtree: {}\".format(near_subtree))\n",
    "        if near_subtree is None:\n",
    "            return tree.point, distance3, 0\n",
    "        \n",
    "        else:\n",
    "            best_neighbor, distance, height = nearest_neighbor_search(near_subtree, query_point, depth + 1)\n",
    "            # print(\"Depth: {}\".format(depth))\n",
    "            # print(\"Height: {}\".format(height))\n",
    "            \n",
    "            if height <= 2:\n",
    "                # print(\"Searching \\\"far\\\" subtree..\")\n",
    "                if query_point[axis] < tree.point[axis]:\n",
    "                    far_subtree = tree.right_child\n",
    "                else:\n",
    "                    far_subtree = tree.left_child\n",
    "                \n",
    "                if far_subtree is None:\n",
    "                    return tree.point, distance3, 0\n",
    "                \n",
    "                else:\n",
    "                    best_neighbor2, distance2, height2 = nearest_neighbor_search(far_subtree, query_point, depth + 1)\n",
    "                    if distance3 < distance2:\n",
    "                        distance2 = distance3\n",
    "                        best_neighbor2 = tree.point\n",
    "\n",
    "                    if distance2 < distance:\n",
    "                        distance = distance2\n",
    "                        best_neighbor = best_neighbor2\n",
    "                    \n",
    "            return best_neighbor, distance, height + 1"
   ]
  },
  {
   "cell_type": "code",
   "execution_count": 13,
   "metadata": {
    "collapsed": false,
    "deletable": true,
    "editable": true
   },
   "outputs": [],
   "source": [
    "data = np.array([[5,4], [1, 6], [6, 1], [7, 5], [10, 14], [8, 3], [4, 3], [4, 6], [7, 6], [3, 5], [2, 7], [2, 2], [6, 8], [3, 9]])"
   ]
  },
  {
   "cell_type": "code",
   "execution_count": 14,
   "metadata": {
    "collapsed": false,
    "deletable": true,
    "editable": true
   },
   "outputs": [
    {
     "data": {
      "text/plain": [
       "[<matplotlib.lines.Line2D at 0x10dd02550>]"
      ]
     },
     "execution_count": 14,
     "metadata": {},
     "output_type": "execute_result"
    },
    {
     "data": {
      "image/png": "[encoded data removed]",
      "text/plain": [
       "<matplotlib.figure.Figure at 0x10db2c810>"
      ]
     },
     "metadata": {},
     "output_type": "display_data"
    }
   ],
   "source": [
    "plt.scatter(data[:,0], data[:,1], s=25, marker='x')\n",
    "plt.xlim(0, 11)\n",
    "plt.ylim(0, 15)\n",
    "plt.plot([5, 5], [0, 15], c='r', linewidth=1)"
   ]
  },
  {
   "cell_type": "code",
   "execution_count": 15,
   "metadata": {
    "collapsed": false,
    "deletable": true,
    "editable": true
   },
   "outputs": [
    {
     "data": {
      "text/plain": [
       "(array([5, 4]),\n",
       " (array([1, 6]),\n",
       " (array([3, 5]), (array([2, 2]), None, None), (array([4, 3]), None, None)),\n",
       " (array([3, 9]), (array([2, 7]), None, None), (array([4, 6]), None, None))),\n",
       " (array([7, 6]),\n",
       " (array([7, 5]), (array([6, 1]), None, None), (array([8, 3]), None, None)),\n",
       " (array([10, 14]), (array([6, 8]), None, None), None)))"
      ]
     },
     "execution_count": 15,
     "metadata": {},
     "output_type": "execute_result"
    }
   ],
   "source": [
    "tree = kdtree(data)\n",
    "tree"
   ]
  },
  {
   "cell_type": "code",
   "execution_count": 16,
   "metadata": {
    "collapsed": false,
    "deletable": true,
    "editable": true
   },
   "outputs": [],
   "source": [
    "def draw_split(tree, axis, xmin, xmax, ymin, ymax, point=[], depth=0):\n",
    "    \"\"\"\n",
    "    \"\"\"\n",
    "    if depth == 0 and not point:\n",
    "        point = [xmin, ymax]\n",
    "    \n",
    "    xmin_, xmax_ = xmin, xmax\n",
    "    ymin_, ymax_ = ymin, ymax\n",
    "    prev_axis = (axis - 1) % 2\n",
    "    bound = point[prev_axis]\n",
    "    \n",
    "    coord = tree.point[axis]\n",
    "    if axis == 0:\n",
    "        if tree.point[prev_axis] < bound:\n",
    "            line = plt.plot([coord, coord], [ymin, bound])\n",
    "            ymax_ = bound\n",
    "        else:\n",
    "            line = plt.plot([coord, coord], [bound, ymax])\n",
    "            ymin_ = bound\n",
    "    else:\n",
    "        if tree.point[prev_axis] < bound:\n",
    "            line = plt.plot([xmin, bound], [coord, coord])\n",
    "            xmax_ = bound\n",
    "        else:\n",
    "            line = plt.plot([bound, xmax], [coord, coord])\n",
    "            xmin_ = bound\n",
    "\n",
    "    if line:\n",
    "        plt.setp(line, linewidth=1, linestyle='-', color='r')\n",
    "\n",
    "    axis = (axis + 1) % 2\n",
    "    depth += 1\n",
    "    \n",
    "    if tree.left_child is not None:\n",
    "        draw_split(tree.left_child, axis, xmin_, xmax_, ymin_, ymax_, tree.point, depth)\n",
    "        \n",
    "    if tree.right_child is not None:\n",
    "        draw_split(tree.right_child, axis, xmin_, xmax_, ymin_, ymax_, tree.point, depth)"
   ]
  },
  {
   "cell_type": "code",
   "execution_count": 17,
   "metadata": {
    "collapsed": false,
    "deletable": true,
    "editable": true
   },
   "outputs": [
    {
     "data": {
      "image/png": "[encoded data removed]",
      "text/plain": [
       "<matplotlib.figure.Figure at 0x10ddd42d0>"
      ]
     },
     "metadata": {},
     "output_type": "display_data"
    }
   ],
   "source": [
    "plt.scatter(data[:,0], data[:,1], s=25, marker='x')\n",
    "plt.xlim(0, 11)\n",
    "plt.ylim(0, 15)\n",
    "draw_split(tree, 0, 0, 11, 0, 15)"
   ]
  },
  {
   "cell_type": "code",
   "execution_count": 18,
   "metadata": {
    "collapsed": false,
    "deletable": true,
    "editable": true
   },
   "outputs": [
    {
     "name": "stdout",
     "output_type": "stream",
     "text": [
      "Depth: 2\n",
      "Height: 0\n",
      "Depth: 1\n",
      "Height: 0\n",
      "Depth: 2\n",
      "Height: 0\n",
      "Depth: 0\n",
      "Height: 1\n",
      "Depth: 2\n",
      "Height: 0\n",
      "Depth: 1\n",
      "Height: 1\n",
      "Depth: 2\n",
      "Height: 0\n"
     ]
    },
    {
     "data": {
      "text/plain": [
       "(array([7, 6]), 13, 2)"
      ]
     },
     "execution_count": 18,
     "metadata": {},
     "output_type": "execute_result"
    }
   ],
   "source": [
    "nearest_neighbor_search(tree=tree, query_point=np.array([9, 9]))"
   ]
  },
  {
   "cell_type": "code",
   "execution_count": null,
   "metadata": {
    "collapsed": true,
    "deletable": true,
    "editable": true
   },
   "outputs": [],
   "source": []
  }
 ],
 "metadata": {
  "kernelspec": {
   "display_name": "Python 2",
   "language": "python",
   "name": "python2"
  },
  "language_info": {
   "codemirror_mode": {
    "name": "ipython",
    "version": 2
   },
   "file_extension": ".py",
   "mimetype": "text/x-python",
   "name": "python",
   "nbconvert_exporter": "python",
   "pygments_lexer": "ipython2",
   "version": "2.7.13"
  }
 },
 "nbformat": 4,
 "nbformat_minor": 2
}
