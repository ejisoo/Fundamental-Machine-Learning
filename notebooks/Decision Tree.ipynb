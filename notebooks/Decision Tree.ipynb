{
 "cells": [
  {
   "cell_type": "markdown",
   "metadata": {},
   "source": [
    "# Decision Tree"
   ]
  },
  {
   "cell_type": "code",
   "execution_count": 1,
   "metadata": {
    "collapsed": true
   },
   "outputs": [],
   "source": [
    "from __future__ import division\n",
    "from collections import Counter\n",
    "import json\n",
    "import numpy as np\n",
    "import pandas as pd"
   ]
  },
  {
   "cell_type": "code",
   "execution_count": 2,
   "metadata": {
    "collapsed": true
   },
   "outputs": [],
   "source": [
    "urgent   = ['urgent', 'urgent', 'near', 'none', 'none', 'none', 'near', 'near', 'near', 'urgent']\n",
    "lazy     = ['yes', 'yes', 'yes', 'no', 'yes', 'no', 'no', 'yes', 'yes', 'no']\n",
    "outcomes = ['party', 'study', 'party', 'party', 'pub', 'party', 'study', 'tv', 'party', 'study']\n",
    "\n",
    "# dataset = np.column_stack((urgent, lazy, classes))\n",
    "# dataset = np.array([tuple(l) for l in dataset],\n",
    "#                    dtype=[('urgent', 'S6'), ('lazy', 'S6'), ('outcomes', 'S6'),])\n",
    "# print(dataset.dtype.names)\n",
    "\n",
    "party = pd.DataFrame(np.column_stack((urgent, lazy, outcomes)),\n",
    "                     columns=['urgent', 'lazy', 'outcome'])"
   ]
  },
  {
   "cell_type": "markdown",
   "metadata": {},
   "source": [
    "## Entropy and Gain\n",
    "\n",
    "Entropy, Gini, and CHAID quantify the impurity (or chaos) of a node.\n",
    "The entropy (ID3, C4.5) is defined by\n",
    "$$\\mathrm{Entropy} = \\sum_{i=1}^{c} -p_i \\log_2 p_i$$\n",
    "with $p_i$ being the proportion of class $i$ (e.g., good and bad).\n",
    "\n",
    "The weighted decrease in entropy is the _information gain_:\n",
    "$$\\mathrm{Gain} = \\mathrm{Entropy}_{\\in D}\n",
    "    - \\sum_{v} \\frac{|D_v|}{|D|} \\times \\mathrm{Entropy}_{\\in D}$$\n",
    "where $D$ is the dataset, $v$ is all possible values of a feature, and $D_v$ is the subset of $D$ for which the feature has the value $v$.\n",
    "\n",
    "The tree algorithm will consider different candidate splits for its root node\n",
    "and adopt a greedy strategy by picking the one with the biggest information gain. We could also use the _gain ratio_."
   ]
  },
  {
   "cell_type": "markdown",
   "metadata": {},
   "source": [
    "### Handling continuous-valuded features\n",
    "\n",
    "Let the set of distinctive values of feature $i$, $f_i$ be $\\{v_1, \\dots, v_m\\}$\n",
    "where they are sorted in ascending order.\n",
    "\n",
    "```python\n",
    "np.argosort()\n",
    "```\n",
    "Then any threshold value lying in between $v_i$ and $v_{i+1}$ will divided\n",
    "the training set into two sets: $\\{v_1, \\dots, v_i\\}$ and \n",
    "$\\{v_{i+1}, \\dots, v_m\\}$. So there are $m - 1$ possible splits.\n",
    "The threshold value can be the $(v_i + v_{i+1})\\,/\\,2$ or just $v_{i+1}$ (C4.5)"
   ]
  },
  {
   "cell_type": "code",
   "execution_count": 3,
   "metadata": {
    "collapsed": true
   },
   "outputs": [],
   "source": [
    "import copy"
   ]
  },
  {
   "cell_type": "code",
   "execution_count": 4,
   "metadata": {
    "collapsed": true
   },
   "outputs": [],
   "source": [
    "class DTree:\n",
    "    \n",
    "    def __init__(self, max_depth, verbose=False):\n",
    "        self.max_depth = max_depth\n",
    "        self.verbose = verbose\n",
    "\n",
    "    def fit(self, X, y):\n",
    "        \"\"\"train the tree\n",
    "        \"\"\"\n",
    "        self.base_entropy = self._entropy(y)\n",
    "        \n",
    "        # Find numeric and categorial features\n",
    "        is_numeric = lambda feature: all(map(lambda x: isinstance(x, float), X[feature]))\n",
    "        self.numeric_features = X.columns[map(is_numeric, X.columns)]\n",
    "        self.cat_features = list(set(X.columns) - set(np.atleast_1d(self.numeric_features)))\n",
    "        \n",
    "        return self._tree(X, y)\n",
    "    \n",
    "    def _tree(self, X, y, _best_features=[], depth=0):\n",
    "        \"\"\"\n",
    "        \"\"\"\n",
    "        counts = Counter(y)\n",
    "        if depth >= self.max_depth or len(counts) == 1 or X.shape[1] == 1:\n",
    "            return counts.most_common()[0][0]\n",
    "        \n",
    "        # feature data with numeric columns binarized \n",
    "        X_ = copy.deepcopy(X)\n",
    "        thresholds = {}\n",
    "        for feature in self.numeric_features:\n",
    "            threshold, binarized = self._binarize(X_, y, feature)\n",
    "            X_.loc[:, feature] = binarized\n",
    "            thresholds[feature] = threshold\n",
    "        \n",
    "        if self.verbose: \n",
    "            print(\"Depth: {}\".format(depth, len(X)))\n",
    "            if any(self.numeric_features):\n",
    "                print(\"Best threshold is {}\".format(thresholds))\n",
    "            \n",
    "        # Keep going until stopping condition if there's at least one numeric feature\n",
    "        # When all features are categorial, keep track of chosen features and\n",
    "        # stop when left with only one feature\n",
    "        splitting = (True if any(self.numeric_features)\n",
    "                          else (X[self.cat_features].shape[1] > len(_best_features)))\n",
    "        \n",
    "        if splitting:\n",
    "            gains = [(feature, gain) for feature, gain\n",
    "                     in self._gains(X_, y, chosen=_best_features)]\n",
    "            gain_ranks = sorted(gains, key=lambda x: x[1], reverse=True)\n",
    "            best_feature = gain_ranks[0][0]\n",
    "            \n",
    "            if best_feature in self.numeric_features:\n",
    "                key = \"{} >= {}\".format(best_feature, thresholds[best_feature])\n",
    "            else:\n",
    "                key = best_feature\n",
    "                _best_features = _best_features + [best_feature]\n",
    "            \n",
    "            if self.verbose: print(\"best feature is {}\".format(key))\n",
    "            \n",
    "            dtree = {key: {}}\n",
    "            unique_values = set(X_[best_feature])\n",
    "            for value in unique_values:\n",
    "                idx = X_[best_feature] == value\n",
    "                if self.verbose:\n",
    "                    print(\"{} observations in branch {}\".format(len(X_[idx]), value))\n",
    "                \n",
    "                # recursively make subtrees\n",
    "                dtree[key][value] = self._tree(\n",
    "                    X[idx], y[idx], _best_features, depth + 1)\n",
    "            \n",
    "            return dtree\n",
    "        \n",
    "        else:\n",
    "            return counts.most_common()[0][0]\n",
    "        \n",
    "    def predict(self, X):\n",
    "        pass\n",
    "    \n",
    "    def _binarize(self, X, y, feature):\n",
    "        \"\"\"best_threshold that achieves maximum gain\n",
    "        determines the splitting condition\n",
    "        \"\"\"\n",
    "        feature_values = X[feature]\n",
    "        \n",
    "        # feature values in ascending order\n",
    "        sorted_idx = np.argsort(feature_values)\n",
    "        sorted_values = feature_values.iloc[sorted_idx]\n",
    "        sorted_y = y[sorted_idx]\n",
    "        \n",
    "        best_threshold = None\n",
    "        best_binarized = feature_values[:]\n",
    "        max_gain = 0\n",
    "        for i in range(len(sorted_values) - 1):\n",
    "            threshold = (sorted_values.iloc[i] + sorted_values.iloc[i + 1]) / 2\n",
    "            binarized = (feature_values < threshold).astype(int)\n",
    "            gain = self.base_entropy - self._entropy_sum(binarized, y)\n",
    "            if gain > max_gain:\n",
    "                max_gain = gain\n",
    "                best_threshold = threshold\n",
    "                best_binarized = binarized\n",
    "        \n",
    "        return best_threshold, best_binarized\n",
    "    \n",
    "    @staticmethod\n",
    "    def _entropy(y):\n",
    "        counts = Counter(y)\n",
    "        n = len(y)\n",
    "        return -np.sum(count / n * np.log2(count / n)\n",
    "                       for count in counts.values())\n",
    "\n",
    "    @staticmethod\n",
    "    def _gini():\n",
    "        pass\n",
    "    \n",
    "    def _entropy_sum(self, feature_values, y):\n",
    "        \"\"\"calculates entropy sum for subset of feature values\"\"\"\n",
    "        n_samples = len(y)\n",
    "        counts = Counter(feature_values)\n",
    "        entropy_sum = 0\n",
    "        for value, count in counts.iteritems():\n",
    "            entropy_sum += ((count / n_samples)\n",
    "                            * self._entropy(y[feature_values == value]))\n",
    "        \n",
    "        return entropy_sum\n",
    "    \n",
    "    def _gains(self, X, y, chosen=[]):\n",
    "        \"\"\"calculate gains for all features\n",
    "        except features already chosen for splitting\n",
    "        (for categorial feature values)\n",
    "        \"\"\"\n",
    "        # for feature in range(X.shape[1]):  # for numpy array\n",
    "        for feature in X.columns:\n",
    "            if feature not in chosen:\n",
    "                gain = self.base_entropy - self._entropy_sum(X[feature], y)\n",
    "                yield feature, gain"
   ]
  },
  {
   "cell_type": "code",
   "execution_count": 5,
   "metadata": {
    "collapsed": true
   },
   "outputs": [],
   "source": [
    "X = party.iloc[:, :-1]\n",
    "y = party.iloc[:, -1]"
   ]
  },
  {
   "cell_type": "code",
   "execution_count": 6,
   "metadata": {},
   "outputs": [],
   "source": [
    "party_tree = DTree(max_depth=2)\n",
    "a = party_tree.fit(X, y)"
   ]
  },
  {
   "cell_type": "code",
   "execution_count": 7,
   "metadata": {
    "scrolled": true
   },
   "outputs": [
    {
     "name": "stdout",
     "output_type": "stream",
     "text": [
      "{\n",
      "  \"urgent\": {\n",
      "    \"near\": {\n",
      "      \"lazy\": {\n",
      "        \"no\": \"study\", \n",
      "        \"yes\": \"party\"\n",
      "      }\n",
      "    }, \n",
      "    \"none\": {\n",
      "      \"lazy\": {\n",
      "        \"no\": \"party\", \n",
      "        \"yes\": \"pub\"\n",
      "      }\n",
      "    }, \n",
      "    \"urgent\": {\n",
      "      \"lazy\": {\n",
      "        \"no\": \"study\", \n",
      "        \"yes\": \"party\"\n",
      "      }\n",
      "    }\n",
      "  }\n",
      "}\n"
     ]
    }
   ],
   "source": [
    "print(json.dumps(a, indent=2, sort_keys=True))"
   ]
  },
  {
   "cell_type": "markdown",
   "metadata": {},
   "source": [
    "## Scikit-learn"
   ]
  },
  {
   "cell_type": "code",
   "execution_count": 8,
   "metadata": {
    "collapsed": true
   },
   "outputs": [],
   "source": [
    "from sklearn.datasets import load_iris\n",
    "from sklearn.tree import DecisionTreeClassifier, export_graphviz\n",
    "from sklearn.model_selection import train_test_split"
   ]
  },
  {
   "cell_type": "code",
   "execution_count": 9,
   "metadata": {
    "collapsed": true
   },
   "outputs": [],
   "source": [
    "iris = load_iris()\n",
    "X = iris.data[:, 2:]\n",
    "y = iris.target\n",
    "X_train, X_test, y_train, y_test = train_test_split(X, y, train_size=0.8, random_state=0)"
   ]
  },
  {
   "cell_type": "code",
   "execution_count": 10,
   "metadata": {},
   "outputs": [
    {
     "data": {
      "text/plain": [
       "DecisionTreeClassifier(class_weight=None, criterion='entropy', max_depth=2,\n",
       "            max_features=None, max_leaf_nodes=None,\n",
       "            min_impurity_split=1e-07, min_samples_leaf=1,\n",
       "            min_samples_split=2, min_weight_fraction_leaf=0.0,\n",
       "            presort=False, random_state=None, splitter='best')"
      ]
     },
     "execution_count": 10,
     "metadata": {},
     "output_type": "execute_result"
    }
   ],
   "source": [
    "sktree = DecisionTreeClassifier(criterion='entropy', max_depth=2)\n",
    "sktree.fit(X, y)"
   ]
  },
  {
   "cell_type": "code",
   "execution_count": 11,
   "metadata": {
    "collapsed": true
   },
   "outputs": [],
   "source": [
    "export_graphviz(sktree, out_file=\"iris.dot\",\n",
    "                feature_names=iris.feature_names[2:],\n",
    "                class_names=iris.target_names)"
   ]
  },
  {
   "cell_type": "code",
   "execution_count": 12,
   "metadata": {
    "collapsed": true
   },
   "outputs": [],
   "source": [
    "!dot -Tpng iris.dot -o iris.png"
   ]
  },
  {
   "cell_type": "code",
   "execution_count": 13,
   "metadata": {
    "collapsed": true
   },
   "outputs": [],
   "source": [
    "from IPython.display import Image"
   ]
  },
  {
   "cell_type": "code",
   "execution_count": 14,
   "metadata": {
    "scrolled": false
   },
   "outputs": [
    {
     "data": {
      "image/png": "[encoded data removed]",
      "text/plain": [
       "<IPython.core.display.Image object>"
      ]
     },
     "execution_count": 14,
     "metadata": {},
     "output_type": "execute_result"
    }
   ],
   "source": [
    "Image(\"iris.png\")"
   ]
  },
  {
   "cell_type": "code",
   "execution_count": 15,
   "metadata": {
    "collapsed": true,
    "scrolled": false
   },
   "outputs": [],
   "source": [
    "X_train, X_test, y_train, y_test = train_test_split(X, y, train_size=0.8, random_state=0)\n",
    "train_df = pd.DataFrame(X_train, columns=['length', 'width'])"
   ]
  },
  {
   "cell_type": "code",
   "execution_count": 16,
   "metadata": {},
   "outputs": [],
   "source": [
    "mytree = DTree(max_depth=2)\n",
    "b = mytree.fit(train_df, y_train)"
   ]
  },
  {
   "cell_type": "code",
   "execution_count": 17,
   "metadata": {},
   "outputs": [],
   "source": [
    "# print(json.dumps(b, indent=2, sort_keys=True))"
   ]
  },
  {
   "cell_type": "code",
   "execution_count": null,
   "metadata": {
    "collapsed": true
   },
   "outputs": [],
   "source": []
  }
 ],
 "metadata": {
  "kernelspec": {
   "display_name": "Python 2",
   "language": "python",
   "name": "python2"
  },
  "language_info": {
   "codemirror_mode": {
    "name": "ipython",
    "version": 2
   },
   "file_extension": ".py",
   "mimetype": "text/x-python",
   "name": "python",
   "nbconvert_exporter": "python",
   "pygments_lexer": "ipython2",
   "version": "2.7.13"
  }
 },
 "nbformat": 4,
 "nbformat_minor": 2
}
